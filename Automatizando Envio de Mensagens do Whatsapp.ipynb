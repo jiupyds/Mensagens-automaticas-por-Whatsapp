{
 "cells": [
  {
   "cell_type": "code",
   "execution_count": 5,
   "id": "27f2c548",
   "metadata": {},
   "outputs": [
    {
     "data": {
      "text/html": [
       "<div>\n",
       "<style scoped>\n",
       "    .dataframe tbody tr th:only-of-type {\n",
       "        vertical-align: middle;\n",
       "    }\n",
       "\n",
       "    .dataframe tbody tr th {\n",
       "        vertical-align: top;\n",
       "    }\n",
       "\n",
       "    .dataframe thead th {\n",
       "        text-align: right;\n",
       "    }\n",
       "</style>\n",
       "<table border=\"1\" class=\"dataframe\">\n",
       "  <thead>\n",
       "    <tr style=\"text-align: right;\">\n",
       "      <th></th>\n",
       "      <th>Pessoa</th>\n",
       "      <th>Número</th>\n",
       "      <th>Mensagem</th>\n",
       "    </tr>\n",
       "  </thead>\n",
       "  <tbody>\n",
       "    <tr>\n",
       "      <th>0</th>\n",
       "      <td>Amigo 1</td>\n",
       "      <td>5521970323072</td>\n",
       "      <td>Oi . Tudo bem?</td>\n",
       "    </tr>\n",
       "    <tr>\n",
       "      <th>1</th>\n",
       "      <td>Amigo 2</td>\n",
       "      <td>5521994777487</td>\n",
       "      <td>Oi . Como está?</td>\n",
       "    </tr>\n",
       "    <tr>\n",
       "      <th>2</th>\n",
       "      <td>Amigo 3</td>\n",
       "      <td>5521994987460</td>\n",
       "      <td>Oi . Vamos jogar?</td>\n",
       "    </tr>\n",
       "  </tbody>\n",
       "</table>\n",
       "</div>"
      ],
      "text/plain": [
       "    Pessoa         Número           Mensagem\n",
       "0  Amigo 1  5521970323072     Oi . Tudo bem?\n",
       "1  Amigo 2  5521994777487    Oi . Como está?\n",
       "2  Amigo 3  5521994987460  Oi . Vamos jogar?"
      ]
     },
     "metadata": {},
     "output_type": "display_data"
    }
   ],
   "source": [
    "import pandas as pd\n",
    "\n",
    "contatos_df = pd.read_excel('Planilha Contatos Whatsapp.xlsx')\n",
    "display(contatos_df)"
   ]
  },
  {
   "cell_type": "code",
   "execution_count": 6,
   "id": "77a5a859",
   "metadata": {},
   "outputs": [],
   "source": [
    "from selenium import webdriver # essa biblioteca permite entrar no whatsapp e navegar entre um link e outro\n",
    "from selenium.webdriver.common.keys import Keys # essa biblioteca permite enviar as mensagens pelo whatsapp\n",
    "import time\n",
    "import urllib # para codificar mensagens\n",
    "\n",
    "\n",
    "navegador = webdriver.Chrome()\n",
    "navegador.get('https://web.whatsapp.com/')\n",
    "\n",
    "while len(navegador.find_elements_by_id('side')) < 1:\n",
    "    time.sleep(1)\n",
    "    \n",
    "\n",
    "# já estamos com login feito no whatsapp web\n",
    "\n",
    "for i, mensagem in enumerate(contatos_df['Mensagem']):\n",
    "    pessoa = contatos_df.loc[i, 'Pessoa']\n",
    "    numero = contatos_df.loc[i, 'Número']\n",
    "    texto = urllib.parse.quote(f'Oi {pessoa}! {mensagem}') # método que permite personalizar a minha mensagem\n",
    "    link = f'https://web.whatsapp.com/send?phone={numero}&text={texto}'\n",
    "    navegador.get(link)\n",
    "    while len(navegador.find_elements_by_id('side')) <1: # enquanto ele não encontrar o site, ele fica aguardando um segundo\n",
    "        time.sleep(1)\n",
    "    navegador.find_element_by_xpath('//*[@id=\"main\"]/footer/div[1]/div[2]/div/div[1]/div/div[2]').send_keys(Keys.ENTER)\n",
    "    time.sleep(10)\n",
    "    "
   ]
  },
  {
   "cell_type": "code",
   "execution_count": null,
   "id": "c5750ed1",
   "metadata": {},
   "outputs": [],
   "source": []
  }
 ],
 "metadata": {
  "kernelspec": {
   "display_name": "Python 3",
   "language": "python",
   "name": "python3"
  },
  "language_info": {
   "codemirror_mode": {
    "name": "ipython",
    "version": 3
   },
   "file_extension": ".py",
   "mimetype": "text/x-python",
   "name": "python",
   "nbconvert_exporter": "python",
   "pygments_lexer": "ipython3",
   "version": "3.8.8"
  }
 },
 "nbformat": 4,
 "nbformat_minor": 5
}
